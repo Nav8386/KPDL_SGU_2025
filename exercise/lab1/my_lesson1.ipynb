{
 "cells": [
  {
   "cell_type": "markdown",
   "id": "f848a78b",
   "metadata": {},
   "source": [
    "# “Thuc hanh tri tue nhan tao Buoi 1”"
   ]
  },
  {
   "cell_type": "markdown",
   "id": "1f9b3fec",
   "metadata": {},
   "source": [
    "## “Noi dung thuc hanh”"
   ]
  },
  {
   "cell_type": "markdown",
   "id": "d3b7fe16",
   "metadata": {},
   "source": [
    "### In chu ra man hinh"
   ]
  },
  {
   "cell_type": "code",
   "execution_count": 1,
   "id": "571408bb",
   "metadata": {},
   "outputs": [
    {
     "name": "stdout",
     "output_type": "stream",
     "text": [
      "Hello, Python World!\n"
     ]
    }
   ],
   "source": [
    "# lenh 1 - xuat chu\n",
    "print(\"Hello, Python World!\")"
   ]
  },
  {
   "cell_type": "markdown",
   "id": "60c685c1",
   "metadata": {},
   "source": [
    "### Tính toán đơn giản"
   ]
  },
  {
   "cell_type": "code",
   "execution_count": 2,
   "id": "556f616a",
   "metadata": {},
   "outputs": [
    {
     "name": "stdout",
     "output_type": "stream",
     "text": [
      "Calculator Basic\n",
      "c = 6 + 3 = 9\n"
     ]
    }
   ],
   "source": [
    "%run ex1_calc.py"
   ]
  },
  {
   "cell_type": "markdown",
   "id": "a5331f2f",
   "metadata": {},
   "source": [
    "### Tính chu vi và diện tích hình tròn"
   ]
  },
  {
   "cell_type": "code",
   "execution_count": 3,
   "id": "fe97202d",
   "metadata": {},
   "outputs": [
    {
     "name": "stdout",
     "output_type": "stream",
     "text": [
      "Tinh chu vi va dien tich hinh tron\n",
      "Chu vi hinh tron la: 18.85\n",
      "Dien tich hinh tron la: 28.27\n"
     ]
    }
   ],
   "source": [
    "%run ex3_circle.py"
   ]
  }
 ],
 "metadata": {
  "kernelspec": {
   "display_name": "Python 3",
   "language": "python",
   "name": "python3"
  },
  "language_info": {
   "codemirror_mode": {
    "name": "ipython",
    "version": 3
   },
   "file_extension": ".py",
   "mimetype": "text/x-python",
   "name": "python",
   "nbconvert_exporter": "python",
   "pygments_lexer": "ipython3",
   "version": "3.13.3"
  }
 },
 "nbformat": 4,
 "nbformat_minor": 5
}
